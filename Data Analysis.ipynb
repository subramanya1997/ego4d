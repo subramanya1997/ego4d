{
 "cells": [
  {
   "cell_type": "code",
   "execution_count": 1,
   "id": "d5cf279c",
   "metadata": {},
   "outputs": [],
   "source": [
    "#import \n",
    "from utils import *\n",
    "from data_processing import Ego4d, Ego4d_NQL, Ego4d_VQ, Ego4d_MQ\n",
    "from collections import defaultdict\n",
    "import pandas as pd"
   ]
  },
  {
   "cell_type": "code",
   "execution_count": 2,
   "id": "913557a2",
   "metadata": {},
   "outputs": [],
   "source": [
    "dataSetRoot = \"./dataset/tmp/\"\n",
    "ego4d_json = dataSetRoot + \"ego4d.json\"\n",
    "v1_root = dataSetRoot + \"v1/\"\n",
    "annotation_root = v1_root + \"annotations/\""
   ]
  },
  {
   "cell_type": "code",
   "execution_count": 3,
   "id": "2f07e2db",
   "metadata": {},
   "outputs": [
    {
     "name": "stderr",
     "output_type": "stream",
     "text": [
      "INFO:data_processing:Loading annotations.\n",
      "INFO:data_processing:Creating index.\n"
     ]
    }
   ],
   "source": [
    "ego4D = Ego4d(ego4d_json)"
   ]
  },
  {
   "cell_type": "code",
   "execution_count": 4,
   "id": "51b24536",
   "metadata": {},
   "outputs": [],
   "source": [
    "nql_train = annotation_root + \"nlq_train.json\"\n",
    "nql_val = annotation_root + \"nlq_val.json\""
   ]
  },
  {
   "cell_type": "code",
   "execution_count": 5,
   "id": "2f4e2cfe",
   "metadata": {
    "scrolled": true
   },
   "outputs": [
    {
     "name": "stderr",
     "output_type": "stream",
     "text": [
      "INFO:data_processing:Loading annotations.\n",
      "INFO:data_processing:Creating index.\n",
      "INFO:data_processing:Loading annotations.\n",
      "INFO:data_processing:Creating index.\n"
     ]
    }
   ],
   "source": [
    "nql_dataset_train = Ego4d_NQL(nql_train)\n",
    "nql_dataset_val = Ego4d_NQL(nql_val)"
   ]
  },
  {
   "cell_type": "code",
   "execution_count": 6,
   "id": "a5b0a632",
   "metadata": {},
   "outputs": [],
   "source": [
    "vq_train = annotation_root + \"vq_train.json\"\n",
    "vq_val = annotation_root + \"vq_val.json\""
   ]
  },
  {
   "cell_type": "code",
   "execution_count": 7,
   "id": "4659fb45",
   "metadata": {},
   "outputs": [
    {
     "name": "stderr",
     "output_type": "stream",
     "text": [
      "INFO:data_processing:Loading annotations.\n",
      "INFO:data_processing:Creating index.\n",
      "INFO:data_processing:Loading annotations.\n",
      "INFO:data_processing:Creating index.\n"
     ]
    }
   ],
   "source": [
    "vq_dataset_train = Ego4d_VQ(vq_train)\n",
    "vq_dataset_val = Ego4d_VQ(vq_val)"
   ]
  },
  {
   "cell_type": "code",
   "execution_count": 8,
   "id": "c4680e38",
   "metadata": {},
   "outputs": [],
   "source": [
    "mq_train = annotation_root + \"moments_train.json\"\n",
    "mq_val = annotation_root + \"moments_val.json\""
   ]
  },
  {
   "cell_type": "code",
   "execution_count": 9,
   "id": "474edd0f",
   "metadata": {},
   "outputs": [
    {
     "name": "stderr",
     "output_type": "stream",
     "text": [
      "INFO:data_processing:Loading annotations.\n",
      "INFO:data_processing:Creating index.\n",
      "INFO:data_processing:Loading annotations.\n",
      "INFO:data_processing:Creating index.\n"
     ]
    }
   ],
   "source": [
    "mq_dataset_train = Ego4d_MQ(mq_train)\n",
    "mq_dataset_val = Ego4d_MQ(mq_val)"
   ]
  },
  {
   "cell_type": "code",
   "execution_count": null,
   "id": "f64072f1",
   "metadata": {},
   "outputs": [],
   "source": [
    "#from collections import defaultdict\n",
    "video_clip_len = defaultdict(int)\n",
    "for _id, clip_ids in nql_dataset.video_clip.items():\n",
    "    secs = 0\n",
    "    for _c_id in clip_ids:\n",
    "        clip = nql_dataset.clips[_c_id]\n",
    "        secs += clip['video_end_sec'] - clip['video_start_sec']\n",
    "    video_clip_len[_id] = int(secs//60)\n",
    "video_clip_len"
   ]
  },
  {
   "cell_type": "code",
   "execution_count": null,
   "id": "8a870436",
   "metadata": {},
   "outputs": [],
   "source": [
    "#from collections import defaultdict\n",
    "video_clip_val_len = defaultdict(int)\n",
    "for _id, clip_ids in nql_dataset_val.video_clip.items():\n",
    "    secs = 0\n",
    "    for _c_id in clip_ids:\n",
    "        clip = nql_dataset_val.clips[_c_id]\n",
    "        secs += clip['video_end_sec'] - clip['video_start_sec']\n",
    "    video_clip_val_len[_id] = int(secs//60)\n",
    "video_clip_val_len"
   ]
  },
  {
   "cell_type": "code",
   "execution_count": null,
   "id": "4ca84241",
   "metadata": {},
   "outputs": [],
   "source": [
    "video_length = 0\n",
    "clip_length = 0\n",
    "for _id, m in video_clip_len.items():\n",
    "    video_length += video_len[_id]\n",
    "    clip_length += m"
   ]
  },
  {
   "cell_type": "code",
   "execution_count": null,
   "id": "bad32216",
   "metadata": {},
   "outputs": [],
   "source": [
    "video_length_val = 0\n",
    "clip_length_val = 0\n",
    "for _id, m in video_clip_val_len.items():\n",
    "    video_length_val += video_len[_id]\n",
    "    clip_length_val += m"
   ]
  },
  {
   "cell_type": "code",
   "execution_count": null,
   "id": "7001550c",
   "metadata": {},
   "outputs": [],
   "source": [
    "import pandas as pd"
   ]
  },
  {
   "cell_type": "code",
   "execution_count": null,
   "id": "dc9292dd",
   "metadata": {},
   "outputs": [],
   "source": [
    "print(video_length//len(video_clip_len.keys()), clip_length//len(video_clip_len.keys()))"
   ]
  },
  {
   "cell_type": "code",
   "execution_count": null,
   "id": "56c6e21c",
   "metadata": {},
   "outputs": [],
   "source": [
    "print(video_length_val//len(video_clip_val_len.keys()), clip_length_val//len(video_clip_val_len.keys()))"
   ]
  },
  {
   "cell_type": "code",
   "execution_count": null,
   "id": "3fe10ba2",
   "metadata": {},
   "outputs": [],
   "source": [
    "video_clip_len_df = pd.DataFrame.from_dict(video_clip_len.items())\n",
    "video_len_df = pd.DataFrame.from_dict(video_len.items())\n",
    "print(video_clip_len_df.head())\n",
    "print(video_len_df.head())"
   ]
  },
  {
   "cell_type": "code",
   "execution_count": null,
   "id": "468fa486",
   "metadata": {},
   "outputs": [],
   "source": [
    "len(video_clip_len_df)"
   ]
  },
  {
   "cell_type": "code",
   "execution_count": null,
   "id": "db23fc9b",
   "metadata": {},
   "outputs": [],
   "source": [
    "len(video_clip_len_df[video_clip_len_df[1] > 5])"
   ]
  },
  {
   "cell_type": "code",
   "execution_count": null,
   "id": "f6118def",
   "metadata": {},
   "outputs": [],
   "source": [
    "print(video_clip_len_df[1].mean(), video_clip_len_df[1].max(), video_clip_len_df[1].min())"
   ]
  },
  {
   "cell_type": "code",
   "execution_count": null,
   "id": "b0ed6c63",
   "metadata": {},
   "outputs": [],
   "source": [
    "video_clip_val_len_df = pd.DataFrame.from_dict(video_clip_val_len.items())\n",
    "video_len_df = pd.DataFrame.from_dict(video_len.items())\n",
    "print(video_clip_len_df.head())\n",
    "print(video_len_df.head())"
   ]
  },
  {
   "cell_type": "code",
   "execution_count": null,
   "id": "358c8e1c",
   "metadata": {},
   "outputs": [],
   "source": [
    "len(video_clip_val_len_df)"
   ]
  },
  {
   "cell_type": "code",
   "execution_count": null,
   "id": "98ec9ad2",
   "metadata": {},
   "outputs": [],
   "source": [
    "len(video_clip_val_len_df[video_clip_val_len_df[1] > 5])"
   ]
  },
  {
   "cell_type": "code",
   "execution_count": null,
   "id": "8d2b7c1d",
   "metadata": {},
   "outputs": [],
   "source": [
    "print(video_clip_val_len_df[1].mean(), video_clip_val_len_df[1].max(), video_clip_val_len_df[1].min())"
   ]
  },
  {
   "cell_type": "code",
   "execution_count": 10,
   "id": "be2b68ac",
   "metadata": {},
   "outputs": [
    {
     "data": {
      "text/plain": [
       "9645"
      ]
     },
     "execution_count": 10,
     "metadata": {},
     "output_type": "execute_result"
    }
   ],
   "source": [
    "len(ego4D.videos.keys())"
   ]
  },
  {
   "cell_type": "code",
   "execution_count": 11,
   "id": "e098514d",
   "metadata": {},
   "outputs": [
    {
     "name": "stdout",
     "output_type": "stream",
     "text": [
      "754 247 1326 422 948 329\n"
     ]
    }
   ],
   "source": [
    "print(len(nql_dataset_train.videos.keys()), len(nql_dataset_val.videos.keys()), len(vq_dataset_train.videos.keys()), len(vq_dataset_val.videos.keys()), len(mq_dataset_train.videos.keys()), len(mq_dataset_val.videos.keys()))"
   ]
  },
  {
   "cell_type": "code",
   "execution_count": 12,
   "id": "b872e6ec",
   "metadata": {},
   "outputs": [
    {
     "name": "stdout",
     "output_type": "stream",
     "text": [
      "998 328 3546 1158 1506 528\n"
     ]
    }
   ],
   "source": [
    "print(len(nql_dataset_train.clips.keys()), len(nql_dataset_val.clips.keys()), len(vq_dataset_train.clips.keys()), len(vq_dataset_val.clips.keys()), len(mq_dataset_train.clips.keys()), len(mq_dataset_val.clips.keys()))"
   ]
  },
  {
   "cell_type": "code",
   "execution_count": 13,
   "id": "12e9c1c0",
   "metadata": {},
   "outputs": [],
   "source": [
    "nlq_video_train_ids = set(nql_dataset_train.videos.keys())\n",
    "nlq_video_val_ids = set(nql_dataset_val.videos.keys())\n",
    "vq_video_train_ids = set(vq_dataset_train.videos.keys())\n",
    "vq_video_val_ids = set(vq_dataset_val.videos.keys())\n",
    "mq_video_train_ids = set(mq_dataset_train.videos.keys())\n",
    "mq_video_val_ids = set(mq_dataset_val.videos.keys())"
   ]
  },
  {
   "cell_type": "code",
   "execution_count": 14,
   "id": "2b86ce0d",
   "metadata": {},
   "outputs": [
    {
     "name": "stdout",
     "output_type": "stream",
     "text": [
      "1001 1748 1277\n"
     ]
    }
   ],
   "source": [
    "nlq_union = nlq_video_train_ids.union(nlq_video_val_ids)\n",
    "vq_union = vq_video_train_ids.union(vq_video_val_ids)\n",
    "mq_union = mq_video_train_ids.union(mq_video_val_ids)\n",
    "\n",
    "print(len(nlq_union), len(vq_union), len(mq_union))"
   ]
  },
  {
   "cell_type": "code",
   "execution_count": 15,
   "id": "b8031080",
   "metadata": {},
   "outputs": [
    {
     "name": "stdout",
     "output_type": "stream",
     "text": [
      "214\n"
     ]
    }
   ],
   "source": [
    "nlq_vq_mq_intersection = nlq_union.intersection(vq_union.intersection(mq_union))\n",
    "\n",
    "print(len(nlq_vq_mq_intersection))"
   ]
  },
  {
   "cell_type": "code",
   "execution_count": 16,
   "id": "be40bf80",
   "metadata": {},
   "outputs": [
    {
     "name": "stdout",
     "output_type": "stream",
     "text": [
      "7331.0 min, 122.0 hr - of footage\n",
      "34.0 min - average length of video\n",
      "5706.0 min, 95.0 hr - of audio\n",
      "26.0 min - average length of video\n"
     ]
    }
   ],
   "source": [
    "duration_sec = 0 \n",
    "audio_sec = 0\n",
    "video_duration = defaultdict(int)\n",
    "audio_duration = defaultdict(int)\n",
    "for _id in nlq_vq_mq_intersection:\n",
    "    duration_sec += ego4D.videos[_id]['duration_sec']\n",
    "    audio_sec += ego4D.videos[_id]['video_metadata']['audio_duration_sec'] if ego4D.videos[_id]['video_metadata']['audio_duration_sec'] != None else 0\n",
    "    video_duration[_id] = int(ego4D.videos[_id]['duration_sec']//60)\n",
    "    audio_duration[_id] = int((ego4D.videos[_id]['video_metadata']['audio_duration_sec'] if ego4D.videos[_id]['video_metadata']['audio_duration_sec'] != None else 0)//60)\n",
    "print( duration_sec//60, 'min,' ,duration_sec//3600, 'hr - of footage')\n",
    "print(duration_sec//len(nlq_vq_mq_intersection)//60, 'min - average length of video' )\n",
    "print( audio_sec//60, 'min,' ,audio_sec//3600, 'hr - of audio')\n",
    "print(audio_sec//len(nlq_vq_mq_intersection)//60, 'min - average length of video' )"
   ]
  },
  {
   "cell_type": "code",
   "execution_count": 17,
   "id": "e892be0d",
   "metadata": {},
   "outputs": [
    {
     "data": {
      "text/html": [
       "<div>\n",
       "<style scoped>\n",
       "    .dataframe tbody tr th:only-of-type {\n",
       "        vertical-align: middle;\n",
       "    }\n",
       "\n",
       "    .dataframe tbody tr th {\n",
       "        vertical-align: top;\n",
       "    }\n",
       "\n",
       "    .dataframe thead th {\n",
       "        text-align: right;\n",
       "    }\n",
       "</style>\n",
       "<table border=\"1\" class=\"dataframe\">\n",
       "  <thead>\n",
       "    <tr style=\"text-align: right;\">\n",
       "      <th></th>\n",
       "      <th>0</th>\n",
       "      <th>1</th>\n",
       "    </tr>\n",
       "  </thead>\n",
       "  <tbody>\n",
       "    <tr>\n",
       "      <th>0</th>\n",
       "      <td>3c5841d6-8d79-4aa7-b020-bbb6ef114b42</td>\n",
       "      <td>18</td>\n",
       "    </tr>\n",
       "    <tr>\n",
       "      <th>1</th>\n",
       "      <td>2876b375-e848-412c-8a6f-0664cbab6a33</td>\n",
       "      <td>11</td>\n",
       "    </tr>\n",
       "    <tr>\n",
       "      <th>2</th>\n",
       "      <td>01111831-9107-43c4-bf0e-6b26e9b32a2b</td>\n",
       "      <td>66</td>\n",
       "    </tr>\n",
       "    <tr>\n",
       "      <th>3</th>\n",
       "      <td>ad4b62f5-f202-48fc-80df-5a27877a814f</td>\n",
       "      <td>25</td>\n",
       "    </tr>\n",
       "    <tr>\n",
       "      <th>4</th>\n",
       "      <td>5eb1a60c-1832-49a9-b1f4-df9df3da2d9b</td>\n",
       "      <td>52</td>\n",
       "    </tr>\n",
       "  </tbody>\n",
       "</table>\n",
       "</div>"
      ],
      "text/plain": [
       "                                      0   1\n",
       "0  3c5841d6-8d79-4aa7-b020-bbb6ef114b42  18\n",
       "1  2876b375-e848-412c-8a6f-0664cbab6a33  11\n",
       "2  01111831-9107-43c4-bf0e-6b26e9b32a2b  66\n",
       "3  ad4b62f5-f202-48fc-80df-5a27877a814f  25\n",
       "4  5eb1a60c-1832-49a9-b1f4-df9df3da2d9b  52"
      ]
     },
     "execution_count": 17,
     "metadata": {},
     "output_type": "execute_result"
    }
   ],
   "source": [
    "videolength_df = pd.DataFrame.from_dict(video_duration.items())\n",
    "videolength_df.head()"
   ]
  },
  {
   "cell_type": "code",
   "execution_count": 18,
   "id": "732db61f",
   "metadata": {},
   "outputs": [
    {
     "data": {
      "text/html": [
       "<div>\n",
       "<style scoped>\n",
       "    .dataframe tbody tr th:only-of-type {\n",
       "        vertical-align: middle;\n",
       "    }\n",
       "\n",
       "    .dataframe tbody tr th {\n",
       "        vertical-align: top;\n",
       "    }\n",
       "\n",
       "    .dataframe thead th {\n",
       "        text-align: right;\n",
       "    }\n",
       "</style>\n",
       "<table border=\"1\" class=\"dataframe\">\n",
       "  <thead>\n",
       "    <tr style=\"text-align: right;\">\n",
       "      <th></th>\n",
       "      <th>0</th>\n",
       "      <th>1</th>\n",
       "    </tr>\n",
       "  </thead>\n",
       "  <tbody>\n",
       "    <tr>\n",
       "      <th>0</th>\n",
       "      <td>3c5841d6-8d79-4aa7-b020-bbb6ef114b42</td>\n",
       "      <td>0</td>\n",
       "    </tr>\n",
       "    <tr>\n",
       "      <th>1</th>\n",
       "      <td>2876b375-e848-412c-8a6f-0664cbab6a33</td>\n",
       "      <td>0</td>\n",
       "    </tr>\n",
       "    <tr>\n",
       "      <th>2</th>\n",
       "      <td>01111831-9107-43c4-bf0e-6b26e9b32a2b</td>\n",
       "      <td>66</td>\n",
       "    </tr>\n",
       "    <tr>\n",
       "      <th>3</th>\n",
       "      <td>ad4b62f5-f202-48fc-80df-5a27877a814f</td>\n",
       "      <td>25</td>\n",
       "    </tr>\n",
       "    <tr>\n",
       "      <th>4</th>\n",
       "      <td>5eb1a60c-1832-49a9-b1f4-df9df3da2d9b</td>\n",
       "      <td>52</td>\n",
       "    </tr>\n",
       "  </tbody>\n",
       "</table>\n",
       "</div>"
      ],
      "text/plain": [
       "                                      0   1\n",
       "0  3c5841d6-8d79-4aa7-b020-bbb6ef114b42   0\n",
       "1  2876b375-e848-412c-8a6f-0664cbab6a33   0\n",
       "2  01111831-9107-43c4-bf0e-6b26e9b32a2b  66\n",
       "3  ad4b62f5-f202-48fc-80df-5a27877a814f  25\n",
       "4  5eb1a60c-1832-49a9-b1f4-df9df3da2d9b  52"
      ]
     },
     "execution_count": 18,
     "metadata": {},
     "output_type": "execute_result"
    }
   ],
   "source": [
    "audiolength_df = pd.DataFrame.from_dict(audio_duration.items())\n",
    "audiolength_df.head()"
   ]
  },
  {
   "cell_type": "code",
   "execution_count": 21,
   "id": "08d0ddd4",
   "metadata": {
    "scrolled": true
   },
   "outputs": [
    {
     "name": "stdout",
     "output_type": "stream",
     "text": [
      "7232 5635\n",
      "81 121  less than : greater than  1330 5602 min\n",
      "81 121  less than : greater than  872 4463 min\n",
      "Video and audio length are same:  158\n",
      "5635 min\n",
      "51 95  less than : greater than  872 4463 min\n"
     ]
    }
   ],
   "source": [
    "v_len = 25\n",
    "print(videolength_df[1].sum(), audiolength_df[1].sum())\n",
    "print(len(videolength_df[videolength_df[1]<v_len]), len(videolength_df[videolength_df[1]>v_len]), \" less than : greater than \", videolength_df[videolength_df[1]<v_len][1].sum(), videolength_df[videolength_df[1]>v_len][1].sum(), \"min\")\n",
    "print(len(audiolength_df[videolength_df[1]<v_len]), len(audiolength_df[videolength_df[1]>v_len]), \" less than : greater than \", audiolength_df[videolength_df[1]<v_len][1].sum(), audiolength_df[videolength_df[1]>v_len][1].sum(), \"min\")\n",
    "print(\"Video and audio length are same: \",len(audiolength_df[audiolength_df[1] == videolength_df[1]]))\n",
    "temp_videolength_df = videolength_df[audiolength_df[1] == videolength_df[1]]\n",
    "print(temp_videolength_df[1].sum(), 'min')\n",
    "print(len(temp_videolength_df[temp_videolength_df[1]<v_len]), len(temp_videolength_df[temp_videolength_df[1]>v_len]), \" less than : greater than \" , temp_videolength_df[temp_videolength_df[1]<v_len][1].sum(), temp_videolength_df[temp_videolength_df[1]>v_len][1].sum(), \"min\")"
   ]
  },
  {
   "cell_type": "code",
   "execution_count": 22,
   "id": "d349d15d",
   "metadata": {},
   "outputs": [
    {
     "data": {
      "text/plain": [
       "{'01111831-9107-43c4-bf0e-6b26e9b32a2b',\n",
       " '0219ad48-8f54-4f61-b22f-4d1e8173e584',\n",
       " '043323ee-0ef9-4e6e-be31-c964bc3ea999',\n",
       " '0475a0b9-9445-4083-8c6a-42f0171ff3e4',\n",
       " '0538719e-78e5-45dd-a811-f7d32ce1d02b',\n",
       " '06fb8090-16a4-42c3-819e-f0e95ddba24d',\n",
       " '07eacb45-2a2b-40fb-b60d-2acb7e108f34',\n",
       " '082db032-f3f2-408b-a116-84d62f673915',\n",
       " '0a40e971-02a4-45f3-aa46-b20bfef1f8e1',\n",
       " '0cf71e76-0ed9-4fb9-875f-be49528105b7',\n",
       " '0e6fb738-05fc-4dd5-9746-a8e10efe8c20',\n",
       " '1246d6ec-5620-4f71-8b4b-d823775f58c2',\n",
       " '13071603-747f-4026-b43c-74b8691a5c8b',\n",
       " '162c1bc4-89df-4475-a549-3faa7ef27c1e',\n",
       " '1652a22c-c350-4c2c-9e4c-71e055d1a268',\n",
       " '168f91fd-53c2-4eee-9d2d-e25e1ad73438',\n",
       " '18e84829-901a-414d-8a2b-d1d2b3244db7',\n",
       " '194612d8-4baa-4e08-a382-158974395e45',\n",
       " '198a806e-93dd-407f-ad35-b1e20344071d',\n",
       " '1b1acfa6-ee3b-483c-9c0a-245d70d7125f',\n",
       " '1c7426ad-b6ba-4494-897c-537dd4a201e9',\n",
       " '1dcc108c-8bd4-42ad-b2c5-03662be62eda',\n",
       " '2137f7a2-dce3-4d95-859d-ad2a50b0cd09',\n",
       " '216c7a1a-7ec3-4aa0-a465-e37e7b5fd2f3',\n",
       " '21abd7c0-2527-487a-a249-36d47408bae0',\n",
       " '250d59fc-e1e3-479e-946d-f108d4f38275',\n",
       " '25e2b694-d192-4e3b-b8e9-4c30c94613f3',\n",
       " '27943b29-52b6-493b-b917-7634d99d60d8',\n",
       " '29928d46-5209-4d00-9fbf-b5c056845ded',\n",
       " '2c5a603d-b9e8-45b2-8ff7-f079f6f402fc',\n",
       " '2ccb7ceb-4a8f-47e0-81de-9402067e4979',\n",
       " '30b9ff64-51c8-4481-ba6a-733ea2060aef',\n",
       " '330c1e0d-b71a-452e-8b68-fdb96fa8a6ca',\n",
       " '34d97a87-c49a-4a4f-965b-025493c26c17',\n",
       " '356dd07e-8165-494c-9be8-b82d314bf88d',\n",
       " '358e65ba-1ce0-46f6-a1b4-1c85569ef628',\n",
       " '369af9b2-376b-44ff-90c8-3d53ec859681',\n",
       " '36bff607-9c5d-43f4-97d2-38ad79e5220c',\n",
       " '378af037-7200-4d75-8f83-ddc74e1cd2dc',\n",
       " '3862a02f-9b57-468a-b282-580432c2c25b',\n",
       " '38ead8a1-4d57-4bfb-b7dc-a9785b22f93a',\n",
       " '39011e23-5fe4-41cd-b146-f3f9e3f3941a',\n",
       " '3b021bad-6945-4be2-a7db-44af3db1eae8',\n",
       " '3c4b02ff-5304-4e58-9efe-89f22f27c4cb',\n",
       " '3d98a5d2-a34b-499e-98f2-9195f300394a',\n",
       " '3e92e0d2-2468-47f1-bbdf-1ebe1eb736c8',\n",
       " '3f3189d2-8a62-4713-9abc-772549e56c68',\n",
       " '4231baf5-d7d9-4e59-9e65-48b63626ec3b',\n",
       " '4480f4ee-d218-41bd-8cdf-a7cbe13b61a0',\n",
       " '4a05811e-f81d-49ce-b41b-2ef3ccf5e65d',\n",
       " '4dc1caff-6353-4a05-9382-92031b25f783',\n",
       " '4dea19df-696c-46ca-b50a-adb5f511cf99',\n",
       " '4f80ac6f-b78f-441b-b80d-fa8dd10756c4',\n",
       " '4ff2e551-1ccb-44ce-8b68-09666397f681',\n",
       " '516c9abc-dbf3-4f87-b78e-db0ab9d657ea',\n",
       " '53730322-9826-4773-8242-f4916d3c3acc',\n",
       " '557b69b3-71f2-4e25-9868-dc68b07dcd1f',\n",
       " '573fb614-bd21-40a9-ab0f-c19b5d46eabe',\n",
       " '584f625d-15b0-49e8-bfa6-718b9cf010e0',\n",
       " '5b18a6d6-2fa6-4ec8-8b3f-709ad79dcfae',\n",
       " '5cee04cd-4adb-4a12-a476-1ba1db44865c',\n",
       " '5dac9d4b-1ac8-468b-a51b-8b7e0dbe554b',\n",
       " '5e193b30-3e79-4851-801b-dab99125cd44',\n",
       " '5e64c89d-34ce-49a3-949a-dc90385cdbcc',\n",
       " '5eb1a60c-1832-49a9-b1f4-df9df3da2d9b',\n",
       " '5f2d9e8b-6e0b-4e36-9f5b-d26bbe0a7c7c',\n",
       " '68a03b86-201f-4935-9847-f2753905f298',\n",
       " '6c0ca07f-6bb2-4db4-a0c3-5926726493fc',\n",
       " '6caf467a-a949-4b5c-b88b-b2ac6cbd9f36',\n",
       " '6deb79d2-b2af-4afe-b097-b98a66c0f703',\n",
       " '6edb5c87-ae95-4185-807f-06d37124d2b7',\n",
       " '6fe490e9-0f1f-41f2-ae9e-98bcbfce3fad',\n",
       " '702aa273-b108-4114-a3b6-a43a8386f06a',\n",
       " '7152d311-7801-487c-a6ed-a746e6abaa1f',\n",
       " '780e41b7-b6c2-4a59-8b06-11ec5af6d43e',\n",
       " '7aca7552-56d2-4ac0-be30-aed9c5dfc8ea',\n",
       " '7c5a72e2-20dc-49f6-b1e2-23fad9925d24',\n",
       " '7e2a3795-28a5-4314-a4d7-b91807812ed1',\n",
       " '7f9c53d7-f468-41ab-945b-febf2a3757f1',\n",
       " '7fc72743-4b55-48de-b988-4c690bda912f',\n",
       " '802623c2-0d7b-4c96-8f70-2a4865365abe',\n",
       " '80bfbc97-f01e-4556-8535-68a11dcad06d',\n",
       " '827c34de-64e7-419e-89e3-3d6de441e983',\n",
       " '8672b38a-7682-4244-ad7a-a336c81c2d0e',\n",
       " '86ebad37-486c-4687-b50e-67627a4be7a2',\n",
       " '8746eb41-4b1b-4ce7-a0af-d84570f75a24',\n",
       " '89a95cd8-ca13-4edf-807e-d62138fd30e0',\n",
       " '8e23dc43-7025-4548-a2bd-0f7d85631602',\n",
       " '8e748fd1-e30e-4bf6-a04f-5f570ca075ac',\n",
       " '8e7ed55a-4c81-4b87-802f-7e28c8190c50',\n",
       " '8f971d3f-a743-485b-af77-f7870e00a616',\n",
       " '8fb142f0-8eb4-4c90-8e3d-08d1bcc2314b',\n",
       " '8fc22dc5-8dc0-49d4-a869-d69ee7f79391',\n",
       " '8fd2f626-1c2a-40d2-8635-92e0e33fdd71',\n",
       " '8fec5995-c65d-4cae-adaf-45eb76956085',\n",
       " '932dfe2f-0cf1-4b76-b41a-4ca03f6945e5',\n",
       " '94c56fdd-9245-42db-8c58-252074e1521c',\n",
       " '95c0a226-5cb1-4380-af73-db2fcdbdbb76',\n",
       " '960b820b-1807-4219-8e74-94c4d00abc41',\n",
       " '975427a5-9d66-4bf6-aa94-1266297cc5e6',\n",
       " '9930414f-b998-4217-b6b5-aa686236fdf8',\n",
       " '9b49246f-30e9-476f-ab8c-56a1bcb1d936',\n",
       " '9b58e3ab-7b6d-4e79-9eea-c21420b0eedc',\n",
       " '9d731b92-a610-4615-9c74-252858c0a410',\n",
       " 'a37f501d-5cc1-4cc2-8ac2-1ec4e66a86d2',\n",
       " 'a4b90abd-8763-49e4-9a15-1276079545e3',\n",
       " 'a5259841-c497-495d-ac9b-59cd5c234f73',\n",
       " 'a5d525a9-27a5-4a68-9f5f-f0be5d989b92',\n",
       " 'a83ce5b7-3b8b-4bae-8f7a-faafb88a7f8d',\n",
       " 'a887acbe-efd5-48e2-ad8b-8e22a3c654d2',\n",
       " 'ad4b62f5-f202-48fc-80df-5a27877a814f',\n",
       " 'adadb102-d199-4a46-a337-ab97997c9224',\n",
       " 'adc0aa8e-619e-488d-b0df-e4f4c3008db3',\n",
       " 'adf36966-1524-40f2-bf75-dabf06a10dc7',\n",
       " 'af7bc929-7fa9-414f-bded-016f2b573229',\n",
       " 'b2a3d8c4-eb58-4a5a-a62a-03612c4821cb',\n",
       " 'b4707bc6-3579-4992-93ec-0eff21ba8922',\n",
       " 'b7022084-61ea-470f-b2cd-49be2ecaf3aa',\n",
       " 'b74101ea-aa00-4e36-b856-b513b021e959',\n",
       " 'b884e44c-07d8-426e-8356-1be4905c2675',\n",
       " 'b8ea1d7f-1928-4699-8b6f-16fdbf5482f1',\n",
       " 'b925520a-853c-442e-8a39-6679cce1e9f4',\n",
       " 'b959f479-0508-4f1b-96a5-1b17e86af8ce',\n",
       " 'b99ceea4-7fa3-407c-9b9f-1347645d23f2',\n",
       " 'bd3a319e-0573-4802-a6d1-6d89910098e8',\n",
       " 'bd7b718e-d5c1-4284-8544-504aa9df4fdf',\n",
       " 'bf6e7a5d-33be-4c4a-a679-b55662dd09e6',\n",
       " 'bfe64619-9bd6-43be-bae3-97f4c3dfd4ca',\n",
       " 'c0f702e1-d2e3-4277-8981-7177d106174a',\n",
       " 'c1f4d37c-bfd8-4722-b1c4-767f8426ccfd',\n",
       " 'c6b5d782-d267-410e-8566-f7fe5d4a78a9',\n",
       " 'c74c1df9-bc28-4561-bc2a-28767632cb2b',\n",
       " 'c8b61175-cfa4-44f9-a88b-76609ffa4ca3',\n",
       " 'c9595c28-a46b-4571-9796-3802af307bf2',\n",
       " 'c98e0cdf-fee8-48e3-909d-f282ac8dfc5c',\n",
       " 'cbc814a4-9a6e-4b3a-a2c2-50fded8bb99e',\n",
       " 'ce2cf2f6-24aa-4195-93a6-f82b283815e6',\n",
       " 'd20d1372-c707-43a2-bf36-12b81d326e15',\n",
       " 'd340e569-12d3-42ef-a56b-a9a25c37ef95',\n",
       " 'd3dafc0b-c623-4c4b-9a4a-ee56538e257c',\n",
       " 'd6f9d174-2d42-49e7-83e4-daa9e8b0aa25',\n",
       " 'd8c894ab-7b08-4983-9e80-fdb5d6ee0202',\n",
       " 'd8cd8977-ce7f-4a4c-983f-61c5c0a9ad93',\n",
       " 'd9bc2b47-181e-4fea-b153-15272b1646e1',\n",
       " 'dd0aa717-59d8-4d8a-9f11-21be827fb184',\n",
       " 'e14bb000-250b-4f3d-aec6-e72d4f29d123',\n",
       " 'e239c31d-4e8b-4b7e-b2d0-89a02d2c82fb',\n",
       " 'e42fc1e0-77cb-4bec-8cd1-53bb4309a9f2',\n",
       " 'e6f1accd-e18d-43ec-b854-e7633b15cbf7',\n",
       " 'ea1818bb-a882-4de4-9e31-993f4cb98aa1',\n",
       " 'eaac93da-6826-495e-a5c0-eb3a761b3ff1',\n",
       " 'ef725741-fe17-4bd2-ad6e-aba3e9468fd5',\n",
       " 'f0776c0c-e50c-4e2d-a3f6-5a53b323829d',\n",
       " 'f324ccbc-bef5-4d68-9722-cc99bdaaa660',\n",
       " 'f442873e-6f2b-493f-a6db-718cd20a732a',\n",
       " 'f63e7e9e-bf80-48d5-8522-b286042b144a',\n",
       " 'f71187bc-cead-407d-ad14-62812993b6a3',\n",
       " 'fffbaeef-577f-45f0-baa9-f10cabf62dfb'}"
      ]
     },
     "execution_count": 22,
     "metadata": {},
     "output_type": "execute_result"
    }
   ],
   "source": [
    "sameavlen_nlq_vq_mq_intersection = set(temp_videolength_df[0].to_numpy())\n",
    "sameavlen_nlq_vq_mq_intersection"
   ]
  },
  {
   "cell_type": "code",
   "execution_count": 23,
   "id": "94956523",
   "metadata": {},
   "outputs": [],
   "source": [
    "scenarios = defaultdict(set)\n",
    "split = defaultdict(set)\n",
    "for _id in nlq_vq_mq_intersection:\n",
    "    for s in ego4D.videos[_id]['scenarios']:\n",
    "        scenarios[s].add(_id)\n",
    "    split[ego4D.videos[_id]['split_em']].add(_id)"
   ]
  },
  {
   "cell_type": "code",
   "execution_count": 24,
   "id": "10328fbb",
   "metadata": {},
   "outputs": [
    {
     "name": "stdout",
     "output_type": "stream",
     "text": [
      "44 dict_keys(['Car - commuting, road trip', 'Cleaning / laundry', 'Playing with pets', 'Talking with family members', 'Bike', 'Grocery shopping indoors', 'Indoor Navigation (walking)', 'Walking on street', 'Clothes, other shopping', 'Talking on the phone', 'Watching movies at the cinema', 'Eating', 'Carpenter', 'Talking with friends/housemates', 'Household cleaners', 'Reading books', 'Making coffee', 'Talking to colleagues', 'Working at desk', 'Scooter mechanic', 'Playing board games', 'Daily hygiene', 'Listening to music', 'Car mechanic', 'Bus', 'Baker', 'Eating at a restaurant', 'Going to the gym - exercise machine, class, weights', 'Bike mechanic', 'Doing yardwork / shoveling snow', 'Gardening', 'Playing games / video games', 'Watching tv', 'Crafting/knitting/sewing/drawing/painting', 'Video call', 'Fixing something in the home', 'Cooking', 'Hosting a party', 'Going to the park', 'On a screen (phone/laptop)', 'Washing the dog / pet, grooming horse', 'Household management - caring for kids', 'Car/scooter washing', 'Handyman'])\n"
     ]
    }
   ],
   "source": [
    "print(len(scenarios.keys()), scenarios.keys())"
   ]
  },
  {
   "cell_type": "code",
   "execution_count": 25,
   "id": "d1542a05",
   "metadata": {},
   "outputs": [
    {
     "name": "stdout",
     "output_type": "stream",
     "text": [
      "train:  156 val:  58\n"
     ]
    }
   ],
   "source": [
    "print('train: ',len(split['train']), 'val: ',len(split['val']))"
   ]
  },
  {
   "cell_type": "code",
   "execution_count": 26,
   "id": "a21efa90",
   "metadata": {},
   "outputs": [],
   "source": [
    "scenarios = defaultdict(set)\n",
    "split = defaultdict(set)\n",
    "for _id in sameavlen_nlq_vq_mq_intersection:\n",
    "    for s in ego4D.videos[_id]['scenarios']:\n",
    "        scenarios[s].add(_id)\n",
    "    split[ego4D.videos[_id]['split_em']].add(_id)"
   ]
  },
  {
   "cell_type": "code",
   "execution_count": 27,
   "id": "6950a07d",
   "metadata": {},
   "outputs": [
    {
     "name": "stdout",
     "output_type": "stream",
     "text": [
      "38 dict_keys(['Cleaning / laundry', 'Clothes, other shopping', 'Talking on the phone', 'Watching movies at the cinema', 'Grocery shopping indoors', 'Eating', 'Carpenter', 'Household cleaners', 'Reading books', 'Making coffee', 'Talking to colleagues', 'Working at desk', 'Playing board games', 'Daily hygiene', 'Listening to music', 'Walking on street', 'Scooter mechanic', 'Bike mechanic', 'Doing yardwork / shoveling snow', 'Gardening', 'Indoor Navigation (walking)', 'Playing games / video games', 'Playing with pets', 'Talking with family members', 'Watching tv', 'Crafting/knitting/sewing/drawing/painting', 'Video call', 'Fixing something in the home', 'Cooking', 'Bike', 'Going to the park', 'Car - commuting, road trip', 'Hosting a party', 'Washing the dog / pet, grooming horse', 'Household management - caring for kids', 'On a screen (phone/laptop)', 'Car/scooter washing', 'Car mechanic'])\n"
     ]
    }
   ],
   "source": [
    "print(len(scenarios.keys()), scenarios.keys())"
   ]
  },
  {
   "cell_type": "code",
   "execution_count": 28,
   "id": "2ef6abd5",
   "metadata": {},
   "outputs": [
    {
     "name": "stdout",
     "output_type": "stream",
     "text": [
      "train:  117 val:  41\n"
     ]
    }
   ],
   "source": [
    "print('train: ',len(split['train']), 'val: ',len(split['val']))"
   ]
  },
  {
   "cell_type": "code",
   "execution_count": 29,
   "id": "d47e7738",
   "metadata": {},
   "outputs": [],
   "source": [
    "sameavlen_nlq_vq_mq_intersection = set(temp_videolength_df[temp_videolength_df[1]<v_len][0].to_numpy())\n",
    "#sameavlen_nlq_vq_mq_intersection"
   ]
  },
  {
   "cell_type": "code",
   "execution_count": 30,
   "id": "5482ae89",
   "metadata": {},
   "outputs": [],
   "source": [
    "scenarios = defaultdict(set)\n",
    "split = defaultdict(set)\n",
    "for _id in sameavlen_nlq_vq_mq_intersection:\n",
    "    for s in ego4D.videos[_id]['scenarios']:\n",
    "        scenarios[s].add(_id)\n",
    "    split[ego4D.videos[_id]['split_em']].add(_id)"
   ]
  },
  {
   "cell_type": "code",
   "execution_count": 31,
   "id": "2045c912",
   "metadata": {},
   "outputs": [
    {
     "name": "stdout",
     "output_type": "stream",
     "text": [
      "17 dict_keys(['Bike mechanic', 'Cooking', 'Cleaning / laundry', 'Grocery shopping indoors', 'Carpenter', 'Walking on street', 'Clothes, other shopping', 'Playing with pets', 'Washing the dog / pet, grooming horse', 'Gardening', 'Fixing something in the home', 'Scooter mechanic', 'Playing board games', 'Talking with family members', 'Eating', 'Indoor Navigation (walking)', 'Watching tv'])\n"
     ]
    }
   ],
   "source": [
    "print(len(scenarios.keys()), scenarios.keys())"
   ]
  },
  {
   "cell_type": "code",
   "execution_count": 32,
   "id": "2b5426b1",
   "metadata": {},
   "outputs": [
    {
     "name": "stdout",
     "output_type": "stream",
     "text": [
      "train:  36 val:  15\n"
     ]
    }
   ],
   "source": [
    "print('train: ',len(split['train']), 'val: ',len(split['val']))"
   ]
  },
  {
   "cell_type": "code",
   "execution_count": 33,
   "id": "d34a5ae9",
   "metadata": {},
   "outputs": [],
   "source": [
    "ids = ''\n",
    "for i, s in enumerate(sameavlen_nlq_vq_mq_intersection):\n",
    "    ids += s\n",
    "    if i!= (len(sameavlen_nlq_vq_mq_intersection)-1):\n",
    "        ids += ' '"
   ]
  },
  {
   "cell_type": "code",
   "execution_count": 34,
   "id": "a862bd85",
   "metadata": {},
   "outputs": [],
   "source": [
    "import csv"
   ]
  },
  {
   "cell_type": "code",
   "execution_count": null,
   "id": "b7b7ac41",
   "metadata": {},
   "outputs": [],
   "source": [
    "f = open('./less_25.csv', 'w')\n",
    "writer = csv.writer(f)\n",
    "for i in list(sameavlen_nlq_vq_mq_intersection):\n",
    "    writer.writerow([i])\n",
    "f.close()"
   ]
  },
  {
   "cell_type": "code",
   "execution_count": null,
   "id": "59bf9281",
   "metadata": {},
   "outputs": [],
   "source": [
    "ids"
   ]
  },
  {
   "cell_type": "code",
   "execution_count": null,
   "id": "af698c3e",
   "metadata": {},
   "outputs": [],
   "source": [
    "file1 = open(\"./less_25.txt\",\"w\")\n",
    "file1.write(ids)\n",
    "file1.close()"
   ]
  },
  {
   "cell_type": "code",
   "execution_count": 6,
   "id": "28e3f513",
   "metadata": {},
   "outputs": [],
   "source": [
    "scenarios = defaultdict(set)\n",
    "for _id, v in ego4D.videos.items():\n",
    "    for s in v['scenarios']:\n",
    "        scenarios[s].add(_id)"
   ]
  },
  {
   "cell_type": "code",
   "execution_count": 10,
   "id": "a260417d",
   "metadata": {},
   "outputs": [
    {
     "data": {
      "text/plain": [
       "161"
      ]
     },
     "execution_count": 10,
     "metadata": {},
     "output_type": "execute_result"
    }
   ],
   "source": [
    "len(scenarios['Farmer'])"
   ]
  },
  {
   "cell_type": "code",
   "execution_count": 11,
   "id": "034fea30",
   "metadata": {},
   "outputs": [],
   "source": [
    "ids = ''\n",
    "scenes = list(scenarios['Farmer'])[:10]\n",
    "for i, s in enumerate(scenes):\n",
    "    ids += s\n",
    "    if i!= (len(scenes)-1):\n",
    "        ids += ' '"
   ]
  },
  {
   "cell_type": "code",
   "execution_count": 12,
   "id": "7581dc15",
   "metadata": {},
   "outputs": [],
   "source": [
    "file1 = open(\"./less_farming.txt\",\"w\")\n",
    "file1.write(ids)\n",
    "file1.close()"
   ]
  },
  {
   "cell_type": "code",
   "execution_count": null,
   "id": "e4dedeff",
   "metadata": {},
   "outputs": [],
   "source": []
  }
 ],
 "metadata": {
  "kernelspec": {
   "display_name": "Python 3 (ipykernel)",
   "language": "python",
   "name": "python3"
  },
  "language_info": {
   "codemirror_mode": {
    "name": "ipython",
    "version": 3
   },
   "file_extension": ".py",
   "mimetype": "text/x-python",
   "name": "python",
   "nbconvert_exporter": "python",
   "pygments_lexer": "ipython3",
   "version": "3.8.12"
  }
 },
 "nbformat": 4,
 "nbformat_minor": 5
}
